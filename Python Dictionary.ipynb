{
 "cells": [
  {
   "cell_type": "code",
   "execution_count": 3,
   "id": "abe304f5",
   "metadata": {},
   "outputs": [
    {
     "name": "stdout",
     "output_type": "stream",
     "text": [
      "In acsending order [37, 46, 49, 56]\n",
      "In decsending order [56, 49, 46, 37]\n"
     ]
    }
   ],
   "source": [
    "### sort the dictionary by values\n",
    "\n",
    "d={'k1':56,'k2':46,'k3':37,'k4':49}\n",
    "\n",
    "print(\"In acsending order\",sorted(d.values()))\n",
    "\n",
    "print(\"In decsending order\",sorted(d.values(),reverse=True))"
   ]
  },
  {
   "cell_type": "code",
   "execution_count": 4,
   "id": "64e75aca",
   "metadata": {},
   "outputs": [
    {
     "data": {
      "text/plain": [
       "{0: 10, 1: 20, 2: 30}"
      ]
     },
     "execution_count": 4,
     "metadata": {},
     "output_type": "execute_result"
    }
   ],
   "source": [
    "## write a python script to add a key to a dictionary.\n",
    "\n",
    "dict1={0:10,1:20}\n",
    "dict1[2]=30\n",
    "dict1"
   ]
  },
  {
   "cell_type": "code",
   "execution_count": 13,
   "id": "7f927768",
   "metadata": {},
   "outputs": [
    {
     "data": {
      "text/plain": [
       "{0: 10, 1: 20, 2: 40, 3: 50, 4: 60, 5: 30, 6: 70, 7: 80}"
      ]
     },
     "execution_count": 13,
     "metadata": {},
     "output_type": "execute_result"
    }
   ],
   "source": [
    "### Write a python script to concatenate following dictionaries to create a new one\n",
    "\n",
    "\n",
    "dict1={0:10,1:20}\n",
    "dict2={2:40,3:50,4:60}\n",
    "dict3={5:30,6:70,7:80}\n",
    "dict2.update(dict3)\n",
    "dict1.update(dict2)\n",
    "dict1"
   ]
  },
  {
   "cell_type": "code",
   "execution_count": 23,
   "id": "5ca5eb35",
   "metadata": {},
   "outputs": [
    {
     "name": "stdout",
     "output_type": "stream",
     "text": [
      "key exist.\n",
      "key exist.\n",
      "key doesn't exist\n"
     ]
    }
   ],
   "source": [
    "###  Write a python script to check whether a given key already exist in a dictionary.\n",
    "\n",
    "def key(a):\n",
    "    if a in dict1:\n",
    "        print(\"key exist.\")\n",
    "    else:\n",
    "        print(\"key doesn't exist\")\n",
    "dict1={0: 10, 1: 20, 2: 40, 3: 50, 4: 60, 5: 30, 6: 70, 7: 80,\"apple\":'banana',\"hi\":'hello'}\n",
    "key(4)\n",
    "key(\"apple\")\n",
    "key(\"mango\")"
   ]
  },
  {
   "cell_type": "code",
   "execution_count": 24,
   "id": "223e3461",
   "metadata": {},
   "outputs": [
    {
     "name": "stdout",
     "output_type": "stream",
     "text": [
      "Enter a number of keys you want to generate:5\n",
      "{1: 1, 2: 4, 3: 9, 4: 16, 5: 25}\n"
     ]
    }
   ],
   "source": [
    "### Write python script to generateand print a dictionary that contains a number (b/w 1 to n) in the form(x:x*x).\n",
    "\n",
    "d={}\n",
    "n= int(input(\"Enter a number of keys you want to generate:\"))\n",
    "for i in range(1,n+1):\n",
    "    d[i]=i*i\n",
    "\n",
    "print(d)"
   ]
  },
  {
   "cell_type": "code",
   "execution_count": 27,
   "id": "47f74c7c",
   "metadata": {},
   "outputs": [
    {
     "data": {
      "text/plain": [
       "360"
      ]
     },
     "execution_count": 27,
     "metadata": {},
     "output_type": "execute_result"
    }
   ],
   "source": [
    "### Write a python program to sum all the items in the dictionary\n",
    "\n",
    "d1={0: 10, 1: 20, 2: 40, 3: 50, 4: 60, 5: 30, 6: 70, 7: 80}\n",
    "sum(d1.values())"
   ]
  },
  {
   "cell_type": "code",
   "execution_count": 29,
   "id": "2633109a",
   "metadata": {},
   "outputs": [
    {
     "name": "stdout",
     "output_type": "stream",
     "text": [
      "4032000000000\n"
     ]
    }
   ],
   "source": [
    "### multiply of items in dictionary.\n",
    "def mul(dict):\n",
    "    m=1\n",
    "    for i in dict:\n",
    "        m=m*dict[i]\n",
    "    print(m)\n",
    "mul(d1)"
   ]
  },
  {
   "cell_type": "code",
   "execution_count": 1,
   "id": "773b32c8",
   "metadata": {},
   "outputs": [
    {
     "data": {
      "text/plain": [
       "{0: 10, 1: 20, 2: 40, 3: 50, 4: 60, 5: 30, 6: 70, 7: 80, 'hi': 'hello'}"
      ]
     },
     "execution_count": 1,
     "metadata": {},
     "output_type": "execute_result"
    }
   ],
   "source": [
    "### Write a python program to remove a key from a dictionary.\n",
    "\n",
    "dict1={0: 10, 1: 20, 2: 40, 3: 50, 4: 60, 5: 30, 6: 70, 7: 80,\"apple\":'banana',\"hi\":'hello'}\n",
    "del dict1['apple']\n",
    "dict1"
   ]
  },
  {
   "cell_type": "code",
   "execution_count": 4,
   "id": "576943aa",
   "metadata": {},
   "outputs": [
    {
     "data": {
      "text/plain": [
       "{1: 10, 2: 20, 3: 30, 4: 40}"
      ]
     },
     "execution_count": 4,
     "metadata": {},
     "output_type": "execute_result"
    }
   ],
   "source": [
    "###Write a python program to map two list into the dictionary\n",
    "\n",
    "l1=[1,2,3,4]\n",
    "l2=[10,20,30,40]\n",
    "\n",
    "d= dict(zip(l1,l2))\n",
    "d"
   ]
  },
  {
   "cell_type": "code",
   "execution_count": 7,
   "id": "fb174d19",
   "metadata": {},
   "outputs": [
    {
     "name": "stdout",
     "output_type": "stream",
     "text": [
      "In ascending order [34, 56, 74, 89]\n",
      "In descending order [89, 74, 56, 34]\n"
     ]
    }
   ],
   "source": [
    "### Write a python program to sort a dictionary by key.\n",
    "\n",
    "d1={74:6,89:5,56:67,34:45}\n",
    "print(\"In ascending order\",sorted(d1.keys()))\n",
    "print(\"In descending order\",sorted(d1.keys(),reverse=True))"
   ]
  },
  {
   "cell_type": "code",
   "execution_count": 9,
   "id": "3ceb3aa5",
   "metadata": {},
   "outputs": [
    {
     "name": "stdout",
     "output_type": "stream",
     "text": [
      "maximum is: 67\n",
      "minimum is: 5\n"
     ]
    }
   ],
   "source": [
    "### Write a python program to get maximum and minimum value in a dictionary.\n",
    "\n",
    "print(\"maximum is:\",max(d1.values()))\n",
    "print(\"minimum is:\",min(d1.values()))"
   ]
  },
  {
   "cell_type": "code",
   "execution_count": 16,
   "id": "fc53b9fc",
   "metadata": {},
   "outputs": [
    {
     "name": "stdout",
     "output_type": "stream",
     "text": [
      "{0: 10, 1: 90, 2: 40, 3: 50, 'apple': 'banana', 4: 60, 5: 30, 6: 70, 7: 80, 'hi': 'hello'}\n"
     ]
    }
   ],
   "source": [
    "### Write a python program to remove duplicates from dictionary.\n",
    "\n",
    "dict1={0: 10, 1: 20, 2: 40, 3: 50,\"apple\":\"mango\", 4: 60, 5: 30,1:90, 6: 70, 7: 80,\"apple\":'banana',\"hi\":'hello'}\n",
    "d2={}\n",
    "for key,value in dict1.items():\n",
    "    if value not in d2.values():\n",
    "        d2[key]=value\n",
    "\n",
    "print(d2)"
   ]
  },
  {
   "cell_type": "code",
   "execution_count": 9,
   "id": "d7309410",
   "metadata": {},
   "outputs": [
    {
     "name": "stdout",
     "output_type": "stream",
     "text": [
      "not empty\n"
     ]
    }
   ],
   "source": [
    "### write a python program to check a dictionary is empty or not.\n",
    "\n",
    "d={6:7,7:8,8:9}\n",
    "i=0\n",
    "for key in d:\n",
    "    i+=1\n",
    "if i==0:\n",
    "    print(\"empty\")\n",
    "else:\n",
    "    print(\"not empty\")"
   ]
  },
  {
   "cell_type": "code",
   "execution_count": null,
   "id": "739c373b",
   "metadata": {},
   "outputs": [],
   "source": []
  }
 ],
 "metadata": {
  "kernelspec": {
   "display_name": "Python 3 (ipykernel)",
   "language": "python",
   "name": "python3"
  },
  "language_info": {
   "codemirror_mode": {
    "name": "ipython",
    "version": 3
   },
   "file_extension": ".py",
   "mimetype": "text/x-python",
   "name": "python",
   "nbconvert_exporter": "python",
   "pygments_lexer": "ipython3",
   "version": "3.9.6"
  }
 },
 "nbformat": 4,
 "nbformat_minor": 5
}
