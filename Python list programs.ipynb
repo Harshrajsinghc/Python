{
 "cells": [
  {
   "cell_type": "code",
   "execution_count": 1,
   "id": "bfcff983",
   "metadata": {},
   "outputs": [
    {
     "name": "stdout",
     "output_type": "stream",
     "text": [
      "Sum is:  34\n"
     ]
    }
   ],
   "source": [
    "## Write a program to sum all the items in a list.\n",
    "\n",
    "l=[6,7,8,9,4]\n",
    "s=0\n",
    "i=0\n",
    "while i<len(l):\n",
    "    s=s + int(l[i])\n",
    "    i+=1\n",
    "\n",
    "print(\"Sum is: \",s)"
   ]
  },
  {
   "cell_type": "code",
   "execution_count": 3,
   "id": "6e905414",
   "metadata": {},
   "outputs": [
    {
     "name": "stdout",
     "output_type": "stream",
     "text": [
      "Multiply is:  12096\n"
     ]
    }
   ],
   "source": [
    "## Write a program to multiply all the items in a list.\n",
    "\n",
    "l=[6,7,8,9,4]\n",
    "s=1\n",
    "i=0\n",
    "while i<len(l):\n",
    "    s=s * int(l[i])\n",
    "    i+=1\n",
    "\n",
    "print(\"Multiply is: \",s)"
   ]
  },
  {
   "cell_type": "code",
   "execution_count": 32,
   "id": "db468b7e",
   "metadata": {},
   "outputs": [
    {
     "name": "stdout",
     "output_type": "stream",
     "text": [
      "Enter the no. of elements in a list: 5\n",
      "Enter a element:56\n",
      "Enter a element:45\n",
      "Enter a element:32\n",
      "Enter a element:78\n",
      "Enter a element:11\n",
      "Largest is:  78\n"
     ]
    }
   ],
   "source": [
    "## Write a python program to get the largest number from a list\n",
    "\n",
    "n=int(input(\"Enter the no. of elements in a list: \"))\n",
    "l=[]\n",
    "i=0\n",
    "while i<n:\n",
    "    p=int(input(\"Enter a element:\"))\n",
    "    l.append(p)\n",
    "    i+=1\n",
    "    \n",
    "print(\"Largest is: \",max(l))"
   ]
  },
  {
   "cell_type": "code",
   "execution_count": 33,
   "id": "ba7609fe",
   "metadata": {},
   "outputs": [
    {
     "name": "stdout",
     "output_type": "stream",
     "text": [
      "Enter the no. of elements in a list: 5\n",
      "Enter a element:56\n",
      "Enter a element:45\n",
      "Enter a element:32\n",
      "Enter a element:78\n",
      "Enter a element:11\n",
      "Smallest is:  11\n"
     ]
    }
   ],
   "source": [
    "## Write a python program to get the smallest number from a list\n",
    "\n",
    "n=int(input(\"Enter the no. of elements in a list: \"))\n",
    "l=[]\n",
    "i=0\n",
    "while i<n:\n",
    "    p=int(input(\"Enter a element:\"))\n",
    "    l.append(p)\n",
    "    i+=1\n",
    "    \n",
    "print(\"Smallest is: \",min(l))"
   ]
  },
  {
   "cell_type": "code",
   "execution_count": 2,
   "id": "ab0ccdde",
   "metadata": {},
   "outputs": [
    {
     "name": "stdout",
     "output_type": "stream",
     "text": [
      " list is not empty.\n"
     ]
    }
   ],
   "source": [
    "## write a python program to check the list is empty or not.\n",
    "\n",
    "\n",
    "l1=[5,6,7,8]\n",
    "if len(l1)==0:\n",
    "    print(\"list is empty.\")\n",
    "\n",
    "else:\n",
    "    print(\" list is not empty.\")"
   ]
  },
  {
   "cell_type": "code",
   "execution_count": 1,
   "id": "362464f9",
   "metadata": {},
   "outputs": [
    {
     "name": "stdout",
     "output_type": "stream",
     "text": [
      "[2, 4, 6, 7, 9]\n"
     ]
    }
   ],
   "source": [
    "## Write a python program to remove duplicates from a list.\n",
    "\n",
    "l = [4, 6, 7, 6, 9, 7, 2, 4]\n",
    "print(list(set(l)))"
   ]
  },
  {
   "cell_type": "code",
   "execution_count": 10,
   "id": "10ed41f0",
   "metadata": {},
   "outputs": [
    {
     "name": "stdout",
     "output_type": "stream",
     "text": [
      "[5, 6, 7, 8]\n"
     ]
    }
   ],
   "source": [
    "## Write a python program to copy a list.\n",
    "\n",
    "l1=[5,6,7,8]\n",
    "l2=[]\n",
    "i=0\n",
    "while i<len(l1):\n",
    "    l2.append(l1[i])\n",
    "    i+=1\n",
    "print(l2)\n",
    "    "
   ]
  },
  {
   "cell_type": "code",
   "execution_count": 14,
   "id": "bd933c5c",
   "metadata": {},
   "outputs": [
    {
     "name": "stdout",
     "output_type": "stream",
     "text": [
      "Updated list:  ['green', 'white', 'black']\n"
     ]
    }
   ],
   "source": [
    "## Write a python program to remove a specified list after removing the 0th, 4th and 5th elements.\n",
    "\n",
    "l = ['red', 'green', 'white', 'black', 'pink', 'yellow']\n",
    "l.remove(l[0])\n",
    "l.remove(l[3])\n",
    "l.remove(l[3])\n",
    "print(\"Updated list: \",l)"
   ]
  },
  {
   "cell_type": "code",
   "execution_count": 19,
   "id": "deddf8c3",
   "metadata": {},
   "outputs": [
    {
     "name": "stdout",
     "output_type": "stream",
     "text": [
      "5 7 67 "
     ]
    }
   ],
   "source": [
    "## Write a program to print the numbers of a specified list after removing even numbers from it.\n",
    "\n",
    "l1 =[5, 7, 4, 67, 34, 56]\n",
    "i=0\n",
    "while i<len(l1):\n",
    "    if l1[i]%2==0 :\n",
    "        i+=1\n",
    "    else :\n",
    "        print(l1[i], end=\" \")\n",
    "        i+=1"
   ]
  },
  {
   "cell_type": "code",
   "execution_count": 24,
   "id": "160da5a7",
   "metadata": {},
   "outputs": [
    {
     "name": "stdout",
     "output_type": "stream",
     "text": [
      "red green white black pink yellow "
     ]
    }
   ],
   "source": [
    "## Write a python program to convert a list of characters into a string.\n",
    "\n",
    "l = ['red', 'green', 'white', 'black', 'pink', 'yellow']\n",
    "i=0\n",
    "while i<len(l):\n",
    "    print(str(l[i]), end=\" \")\n",
    "    i+=1"
   ]
  },
  {
   "cell_type": "code",
   "execution_count": 4,
   "id": "60478c4b",
   "metadata": {},
   "outputs": [
    {
     "name": "stdout",
     "output_type": "stream",
     "text": [
      "1\n",
      "3\n"
     ]
    }
   ],
   "source": [
    "## Write a python program to access the index of a list item.\n",
    "\n",
    "\n",
    "l = ['red', 'green', 'white', 'black', 'pink', 'yellow']\n",
    "a = l.index('green')\n",
    "print(a)\n",
    "a = l.index('black')\n",
    "print(a)"
   ]
  },
  {
   "cell_type": "code",
   "execution_count": 9,
   "id": "441be48c",
   "metadata": {},
   "outputs": [
    {
     "name": "stdout",
     "output_type": "stream",
     "text": [
      "Common items: \n",
      "pink\n",
      "white\n"
     ]
    }
   ],
   "source": [
    "## Write a python program to find common items from the lists\n",
    "\n",
    "l = ['red', 'green', 'white', 'black', 'pink', 'yellow']\n",
    "l1= ['blue', 'brown', 'pink', 'orange', 'white']\n",
    "i=0\n",
    "common_item =0\n",
    "print(\"Common items: \")\n",
    "while i<len(l):\n",
    "    j=0\n",
    "    while j<len(l1):\n",
    "        if l[i]==l1[j]:\n",
    "            print(l[j])\n",
    "            common_item+=1\n",
    "            j+=1\n",
    "        else:\n",
    "            j+=1\n",
    "    i+=1\n",
    "if common_item ==0:\n",
    "    print(\"No common items found.\")"
   ]
  },
  {
   "cell_type": "code",
   "execution_count": 12,
   "id": "db552eeb",
   "metadata": {},
   "outputs": [
    {
     "name": "stdout",
     "output_type": "stream",
     "text": [
      "second smallest element is:  5\n",
      "second largest element is:  56\n"
     ]
    }
   ],
   "source": [
    "## Write a python program to find second smallest and largest element in a list\n",
    "\n",
    "l1 =[5, 7, 4, 67, 34, 56]\n",
    "l1.sort()\n",
    "print(\"second smallest element is: \",l1[1])\n",
    "print(\"second largest element is: \",l1[4])"
   ]
  },
  {
   "cell_type": "code",
   "execution_count": 18,
   "id": "b6cc3cca",
   "metadata": {},
   "outputs": [
    {
     "name": "stdout",
     "output_type": "stream",
     "text": [
      "Updated list is:  [1.5, 2.5, 3.5, 4.5, 5.5, 6.5]\n"
     ]
    }
   ],
   "source": [
    "## write a python program to sum the first number with the second number and divide it by 2, then sum the\n",
    "## second with the third and divide by 2, and so on.\n",
    "\n",
    "l=[1,2,3,4,5,6,7]\n",
    "i=0\n",
    "j=1\n",
    "l1=[]\n",
    "while i<len(l)-1:\n",
    "    s=0\n",
    "    s=l[i] + l[j]\n",
    "    s=s/2\n",
    "    l1.append(s)\n",
    "    j+=1\n",
    "    i+=1\n",
    "\n",
    "print(\"Updated list is: \", l1)"
   ]
  },
  {
   "cell_type": "code",
   "execution_count": 19,
   "id": "9a7ccddb",
   "metadata": {},
   "outputs": [
    {
     "name": "stdout",
     "output_type": "stream",
     "text": [
      "After merge:  [1, 2, 3, 4, 5, 6, 7, 8, 9, 10]\n"
     ]
    }
   ],
   "source": [
    "## program to merge two list.\n",
    "\n",
    "l=[1,2,3,4,5,6]\n",
    "l1=[7,8,9,10]\n",
    "print(\"After merge: \",l + l1)"
   ]
  },
  {
   "cell_type": "code",
   "execution_count": 1,
   "id": "a50e3c6d",
   "metadata": {},
   "outputs": [
    {
     "name": "stdout",
     "output_type": "stream",
     "text": [
      "[6, 2, 3, 4, 5, 1]\n"
     ]
    }
   ],
   "source": [
    "## Write a program to interchange first and last element.\n",
    "\n",
    "\n",
    "l=[1,2,3,4,5,6]\n",
    "l[0],l[-1] =l[-1],l[0]\n",
    "print(l)"
   ]
  },
  {
   "cell_type": "code",
   "execution_count": 9,
   "id": "636b435a",
   "metadata": {},
   "outputs": [
    {
     "name": "stdout",
     "output_type": "stream",
     "text": [
      "Even numbers are: \n",
      "56 34 12 64 \n",
      "Odd numbers are: \n",
      "65 97 23 77 87 "
     ]
    }
   ],
   "source": [
    "## Program to find even and odd number from the list and print the elements.\n",
    "\n",
    "l1= [65, 97, 56,34, 23, 12, 77 ,87, 64]\n",
    "i=0\n",
    "print(\"Even numbers are: \")\n",
    "while i<len(l1):\n",
    "    if l1[i] % 2==0:\n",
    "        print(l1[i], end=\" \")\n",
    "        i+=1\n",
    "    else:\n",
    "        i+=1\n",
    "\n",
    "j=0\n",
    "print(\"\\nOdd numbers are: \")\n",
    "while j<len(l1):\n",
    "    if l1[j]%2==0:\n",
    "\n",
    "        j+=1\n",
    "    else:\n",
    "        print(l1[j], end=\" \")\n",
    "        j+=1\n",
    "    "
   ]
  },
  {
   "cell_type": "code",
   "execution_count": 11,
   "id": "53452a15",
   "metadata": {},
   "outputs": [
    {
     "name": "stdout",
     "output_type": "stream",
     "text": [
      "After subtract:  [6, 6, 6, 6]\n"
     ]
    }
   ],
   "source": [
    "## Program to subtract one list from other.\n",
    "\n",
    "l=[1,2,3,4]\n",
    "l1=[7,8,9,10]\n",
    "l2=[]\n",
    "i=0\n",
    "while i<len(l):\n",
    "    a = l1[i] - l[i]\n",
    "    l2.append(a)\n",
    "    i+=1\n",
    "print(\"After subtract: \",l2)"
   ]
  },
  {
   "cell_type": "code",
   "execution_count": null,
   "id": "c696d50a",
   "metadata": {},
   "outputs": [],
   "source": []
  }
 ],
 "metadata": {
  "kernelspec": {
   "display_name": "Python 3 (ipykernel)",
   "language": "python",
   "name": "python3"
  },
  "language_info": {
   "codemirror_mode": {
    "name": "ipython",
    "version": 3
   },
   "file_extension": ".py",
   "mimetype": "text/x-python",
   "name": "python",
   "nbconvert_exporter": "python",
   "pygments_lexer": "ipython3",
   "version": "3.9.6"
  }
 },
 "nbformat": 4,
 "nbformat_minor": 5
}
