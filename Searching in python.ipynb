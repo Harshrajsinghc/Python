{
 "cells": [
  {
   "cell_type": "markdown",
   "id": "19de3723",
   "metadata": {},
   "source": [
    "## Searching in python"
   ]
  },
  {
   "cell_type": "markdown",
   "id": "83724100",
   "metadata": {},
   "source": [
    "### Linear search"
   ]
  },
  {
   "cell_type": "code",
   "execution_count": 2,
   "id": "e38aa5d4",
   "metadata": {},
   "outputs": [
    {
     "name": "stdout",
     "output_type": "stream",
     "text": [
      "Enter a number you want to search:17\n",
      "Not found.\n"
     ]
    }
   ],
   "source": [
    "l1= [65, 97, 56,34, 23, 12, 77 ,87, 64]\n",
    "a=int(input(\"Enter a number you want to search:\"))\n",
    "\n",
    "f=0\n",
    "i=0\n",
    "while i<len(l1):\n",
    "    if l1[i]==a:\n",
    "        f+=1\n",
    "        break\n",
    "    else:\n",
    "        i+=1\n",
    "\n",
    "if f>0:\n",
    "    print(\"Element found.\")\n",
    "else:\n",
    "    print(\"Not found.\")"
   ]
  },
  {
   "cell_type": "markdown",
   "id": "05213002",
   "metadata": {},
   "source": [
    "### Binary search"
   ]
  },
  {
   "cell_type": "markdown",
   "id": "725a83e5",
   "metadata": {},
   "source": [
    "#### In binary search operation list should be in sorted order."
   ]
  },
  {
   "cell_type": "code",
   "execution_count": 25,
   "id": "3211e1d5",
   "metadata": {},
   "outputs": [
    {
     "name": "stdout",
     "output_type": "stream",
     "text": [
      "Enter a number you want to search:30\n",
      "Element found.\n"
     ]
    }
   ],
   "source": [
    "l1= [10,20,30,40,50,60,70,80,90]\n",
    "\n",
    "\n",
    "a=int(input(\"Enter a number you want to search:\"))\n",
    "\n",
    "k = 0\n",
    "low = 0\n",
    "high = len(l1)\n",
    "while low <= high:\n",
    "    mid =(low + high) // 2\n",
    "    if a == l1[mid]:\n",
    "        k+=1\n",
    "        break\n",
    "    elif l1[mid] > a:\n",
    "        high = mid - 1\n",
    "    else:\n",
    "        low = mid + 1\n",
    "\n",
    "if k ==1:\n",
    "    print(\"Element found.\")\n",
    "else:\n",
    "    print(\"Element not found.\")"
   ]
  },
  {
   "cell_type": "code",
   "execution_count": null,
   "id": "6c24a5be",
   "metadata": {},
   "outputs": [],
   "source": []
  },
  {
   "cell_type": "code",
   "execution_count": null,
   "id": "5b36158b",
   "metadata": {},
   "outputs": [],
   "source": []
  }
 ],
 "metadata": {
  "kernelspec": {
   "display_name": "Python 3 (ipykernel)",
   "language": "python",
   "name": "python3"
  },
  "language_info": {
   "codemirror_mode": {
    "name": "ipython",
    "version": 3
   },
   "file_extension": ".py",
   "mimetype": "text/x-python",
   "name": "python",
   "nbconvert_exporter": "python",
   "pygments_lexer": "ipython3",
   "version": "3.9.6"
  }
 },
 "nbformat": 4,
 "nbformat_minor": 5
}
