{
 "cells": [
  {
   "cell_type": "code",
   "execution_count": 1,
   "id": "45d69b73",
   "metadata": {},
   "outputs": [
    {
     "name": "stdout",
     "output_type": "stream",
     "text": [
      "Divisible by 7 and multiple of 5 is :\n",
      "1505\n",
      "1540\n",
      "1575\n",
      "1610\n",
      "1645\n",
      "1680\n",
      "1715\n",
      "1750\n",
      "1785\n",
      "1820\n",
      "1855\n",
      "1890\n",
      "1925\n",
      "1960\n",
      "1995\n",
      "2030\n",
      "2065\n",
      "2100\n",
      "2135\n",
      "2170\n",
      "2205\n",
      "2240\n",
      "2275\n",
      "2310\n",
      "2345\n",
      "2380\n",
      "2415\n",
      "2450\n",
      "2485\n",
      "2520\n",
      "2555\n",
      "2590\n",
      "2625\n",
      "2660\n",
      "2695\n"
     ]
    }
   ],
   "source": [
    "## Write a python program to find those numbers which are divisible by 7 and multiple of 5, between 1500 and 2700(both included).\n",
    "\n",
    "i=1500\n",
    "print(\"Divisible by 7 and multiple of 5 is :\")\n",
    "while i<=2700 :\n",
    "    j=i%7\n",
    "    if j==0 :\n",
    "        k=i%5\n",
    "        if k==0 :\n",
    "            print(i)\n",
    "    \n",
    "    i+=1"
   ]
  },
  {
   "cell_type": "code",
   "execution_count": 2,
   "id": "878a7785",
   "metadata": {},
   "outputs": [
    {
     "name": "stdout",
     "output_type": "stream",
     "text": [
      "Even no. is: 5\n",
      "odd no. is: 5\n"
     ]
    }
   ],
   "source": [
    "i=0\n",
    "j=0\n",
    "a=1\n",
    "\n",
    "while a<=10 :\n",
    "    b=a%2\n",
    "    if b==0 :\n",
    "        i+=1\n",
    "    else :\n",
    "        j+=1\n",
    "    \n",
    "    a+=1\n",
    "\n",
    "print(\"Even no. is:\",i)\n",
    "print(\"odd no. is:\",j)"
   ]
  },
  {
   "cell_type": "code",
   "execution_count": 3,
   "id": "271e2e55",
   "metadata": {},
   "outputs": [
    {
     "name": "stdout",
     "output_type": "stream",
     "text": [
      "* \n",
      "\n",
      "* * \n",
      "\n",
      "* * * \n",
      "\n",
      "* * * * \n",
      "\n",
      "* * * * * \n",
      "\n",
      "* * * * \n",
      "\n",
      "* * * \n",
      "\n",
      "* * \n",
      "\n",
      "* \n",
      "\n"
     ]
    }
   ],
   "source": [
    "i= 1\n",
    "while i<=5 :\n",
    "    j=1\n",
    "    while j<=i :\n",
    "        print(\"*\",end=\" \")\n",
    "        j+=1\n",
    "        \n",
    "    print(\"\\n\")\n",
    "    i+=1\n",
    "    \n",
    "i= i-2\n",
    "while i>=1 :\n",
    "    j =i\n",
    "    while j>=1 :\n",
    "        print(\"*\",end=\" \")\n",
    "        j-=1\n",
    "    \n",
    "    print(\"\\n\")\n",
    "    i-=1"
   ]
  },
  {
   "cell_type": "code",
   "execution_count": 4,
   "id": "7f51382e",
   "metadata": {},
   "outputs": [
    {
     "name": "stdout",
     "output_type": "stream",
     "text": [
      "Enter a number :12\n",
      "you choose the wrong no.! Please, choose between 1 to 9.\n",
      "Enter a number :7\n",
      "Well guessed!\n"
     ]
    }
   ],
   "source": [
    "## Write a python program to guess a number between 1 to 9.\n",
    "\n",
    "i=1\n",
    "while i>=1 :\n",
    "    a= int(input(\"Enter a number :\"))\n",
    "    if a>=1 and a<=9 :\n",
    "        print(\"Well guessed!\")\n",
    "        break \n",
    "    \n",
    "    else :\n",
    "        print(\"you choose the wrong no.! Please, choose between 1 to 9.\")\n",
    "        \n",
    "    i+=1   "
   ]
  },
  {
   "cell_type": "code",
   "execution_count": null,
   "id": "cb2d40da",
   "metadata": {},
   "outputs": [],
   "source": [
    "i=0\n",
    "while i<=6 :\n",
    "    j=i%3\n",
    "    if j==0 :\n",
    "        continue\n",
    "    \n",
    "    else :\n",
    "        print(i,end=\"  \")\n",
    "    \n",
    "    i+=1\n",
    "            "
   ]
  },
  {
   "cell_type": "code",
   "execution_count": null,
   "id": "a4a00363",
   "metadata": {},
   "outputs": [],
   "source": []
  },
  {
   "cell_type": "code",
   "execution_count": null,
   "id": "2c2e0afe",
   "metadata": {},
   "outputs": [],
   "source": []
  }
 ],
 "metadata": {
  "kernelspec": {
   "display_name": "Python 3 (ipykernel)",
   "language": "python",
   "name": "python3"
  },
  "language_info": {
   "codemirror_mode": {
    "name": "ipython",
    "version": 3
   },
   "file_extension": ".py",
   "mimetype": "text/x-python",
   "name": "python",
   "nbconvert_exporter": "python",
   "pygments_lexer": "ipython3",
   "version": "3.9.7"
  }
 },
 "nbformat": 4,
 "nbformat_minor": 5
}
