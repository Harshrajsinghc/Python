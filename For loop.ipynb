{
 "cells": [
  {
   "cell_type": "code",
   "execution_count": 19,
   "id": "74d29dcf",
   "metadata": {},
   "outputs": [
    {
     "name": "stdout",
     "output_type": "stream",
     "text": [
      "H ?\n",
      "a ?\n",
      "r ?\n",
      "s ?\n",
      "h ?\n",
      "r ?\n",
      "a ?\n",
      "j ?\n"
     ]
    }
   ],
   "source": [
    "for i in \"Harshraj\":\n",
    "    print(i,'?')"
   ]
  },
  {
   "cell_type": "code",
   "execution_count": 2,
   "id": "2881e1cb",
   "metadata": {},
   "outputs": [
    {
     "name": "stdout",
     "output_type": "stream",
     "text": [
      "0\n",
      "1\n",
      "2\n",
      "3\n",
      "4\n"
     ]
    }
   ],
   "source": [
    "for i in range(5):\n",
    "    print(i)"
   ]
  },
  {
   "cell_type": "code",
   "execution_count": 4,
   "id": "57b0d2e9",
   "metadata": {},
   "outputs": [
    {
     "name": "stdout",
     "output_type": "stream",
     "text": [
      "10\n",
      "11\n",
      "12\n",
      "13\n",
      "14\n"
     ]
    }
   ],
   "source": [
    "for i in range(10,15):\n",
    "    print(i)"
   ]
  },
  {
   "cell_type": "code",
   "execution_count": 9,
   "id": "f4f4bc3b",
   "metadata": {},
   "outputs": [
    {
     "name": "stdout",
     "output_type": "stream",
     "text": [
      "First 10 natural numbers are:\n",
      "1\n",
      "2\n",
      "3\n",
      "4\n",
      "5\n",
      "6\n",
      "7\n",
      "8\n",
      "9\n",
      "10\n"
     ]
    }
   ],
   "source": [
    "### Write a program to print the first 10 natural numbers.\n",
    "\n",
    "print(\"First 10 natural numbers are:\")\n",
    "for i in range(1,11):\n",
    "    print(i)"
   ]
  },
  {
   "cell_type": "code",
   "execution_count": 11,
   "id": "7a45c7dc",
   "metadata": {},
   "outputs": [
    {
     "name": "stdout",
     "output_type": "stream",
     "text": [
      "First 10 even numbers are:\n",
      "2\n",
      "4\n",
      "6\n",
      "8\n",
      "10\n",
      "12\n",
      "14\n",
      "16\n",
      "18\n",
      "20\n"
     ]
    }
   ],
   "source": [
    "### Write a program to print the first 10 even numbers.\n",
    "\n",
    "s=0\n",
    "print(\"First 10 even numbers are:\")\n",
    "for i in range(1,100):\n",
    "    if i%2==0:\n",
    "        print(i)\n",
    "        s+=1\n",
    "        if s>=10:\n",
    "            break\n",
    "  ##or see in next cell       "
   ]
  },
  {
   "cell_type": "code",
   "execution_count": 12,
   "id": "dfa23af2",
   "metadata": {},
   "outputs": [
    {
     "name": "stdout",
     "output_type": "stream",
     "text": [
      "2\n",
      "4\n",
      "6\n",
      "8\n",
      "10\n",
      "12\n",
      "14\n",
      "16\n",
      "18\n",
      "20\n"
     ]
    }
   ],
   "source": [
    "### Write a program to print the first 10 even numbers.\n",
    "\n",
    "for i in range(2,21,2):\n",
    "    print(i)"
   ]
  },
  {
   "cell_type": "code",
   "execution_count": 13,
   "id": "99243376",
   "metadata": {},
   "outputs": [
    {
     "name": "stdout",
     "output_type": "stream",
     "text": [
      "First 10 odd numbers are:\n",
      "1\n",
      "3\n",
      "5\n",
      "7\n",
      "9\n",
      "11\n",
      "13\n",
      "15\n",
      "17\n",
      "19\n"
     ]
    }
   ],
   "source": [
    "### Write a program to print the first 10 odd numbers.\n",
    "print(\"First 10 odd numbers are:\")\n",
    "for i in range(1,20,2):\n",
    "    print(i)"
   ]
  },
  {
   "cell_type": "code",
   "execution_count": 15,
   "id": "e5814d93",
   "metadata": {},
   "outputs": [
    {
     "name": "stdout",
     "output_type": "stream",
     "text": [
      "First 10 even numbers in reverse order are:\n",
      "20\n",
      "18\n",
      "16\n",
      "14\n",
      "12\n",
      "10\n",
      "8\n",
      "6\n",
      "4\n",
      "2\n"
     ]
    }
   ],
   "source": [
    "### Write a program to print the first 10 even numbers in reverse order.\n",
    "\n",
    "print(\"First 10 even numbers in reverse order are:\")\n",
    "for i in range(20,1,-2):\n",
    "    print(i)"
   ]
  },
  {
   "cell_type": "code",
   "execution_count": 18,
   "id": "ad05c1b3",
   "metadata": {},
   "outputs": [
    {
     "name": "stdout",
     "output_type": "stream",
     "text": [
      "Enter a number for the table:6\n",
      "6\n",
      "12\n",
      "18\n",
      "24\n",
      "30\n",
      "36\n",
      "42\n",
      "48\n",
      "54\n",
      "60\n"
     ]
    }
   ],
   "source": [
    "### Write a pyhton program to print table of the number given by user.\n",
    "\n",
    "a=int(input(\"Enter a number for the table:\"))\n",
    "for i in range(1,11):\n",
    "    print(a*i)"
   ]
  },
  {
   "cell_type": "code",
   "execution_count": 23,
   "id": "e98c0bb9",
   "metadata": {},
   "outputs": [
    {
     "name": "stdout",
     "output_type": "stream",
     "text": [
      "Enter a number for the table:5\n",
      "Factorial of 5 is 120\n"
     ]
    }
   ],
   "source": [
    "### Write a program to find the factorial of the number.\n",
    "\n",
    "a=int(input(\"Enter a number for the table:\"))\n",
    "s=1\n",
    "for i in range(a,0,-1):\n",
    "    s=s*i\n",
    "print(\"Factorial of\",a , \"is\",s)\n",
    "    "
   ]
  },
  {
   "cell_type": "code",
   "execution_count": 29,
   "id": "c67dd61e",
   "metadata": {},
   "outputs": [
    {
     "name": "stdout",
     "output_type": "stream",
     "text": [
      "\n",
      "1 \n",
      "1 2 \n",
      "1 2 3 \n",
      "1 2 3 4 \n"
     ]
    }
   ],
   "source": [
    "### Write a program to print the following pattern:\n",
    "# 1\n",
    "# 1 2\n",
    "# 1 2 3\n",
    "# 1 2 3 4\n",
    "\n",
    "for i in range(1,6):\n",
    "    for j in range(1,i):\n",
    "        print(j,end=' ')\n",
    "    print()"
   ]
  },
  {
   "cell_type": "code",
   "execution_count": 40,
   "id": "a79421a9",
   "metadata": {},
   "outputs": [
    {
     "name": "stdout",
     "output_type": "stream",
     "text": [
      "* * * * \n",
      "* * * \n",
      "* * \n",
      "* \n"
     ]
    }
   ],
   "source": [
    "### Write a program to print the following pattern:\n",
    "# * * * *\n",
    "# * * *\n",
    "# * *\n",
    "# *\n",
    "\n",
    "for i in range(1,5):\n",
    "    for j in range(5,i,-1):\n",
    "        print(\"*\",end=' ')\n",
    "    print()"
   ]
  },
  {
   "cell_type": "code",
   "execution_count": 41,
   "id": "b80289ff",
   "metadata": {},
   "outputs": [
    {
     "name": "stdout",
     "output_type": "stream",
     "text": [
      "Enter a number:89\n",
      "Enter a number:64\n",
      "Enter a number:8\n",
      "Enter a number:95\n",
      "Enter a number:29\n",
      "Enter a number:5\n",
      "Enter a number:96\n",
      "Enter a number:69\n",
      "Enter a number:18\n",
      "Enter a number:14\n",
      "The average of the numbers are 48.7\n"
     ]
    }
   ],
   "source": [
    "### Accept 10 numbers from user and display their average.\n",
    "\n",
    "s=0\n",
    "for i in range(10):\n",
    "    n=int(input(\"Enter a number:\"))\n",
    "    s= s+n\n",
    "print(\"The average of the numbers are\",s/10)"
   ]
  },
  {
   "cell_type": "code",
   "execution_count": 1,
   "id": "7fcf0cf9",
   "metadata": {},
   "outputs": [
    {
     "name": "stdout",
     "output_type": "stream",
     "text": [
      "Sum of even no is: 312 \n",
      "Sum of odd number is: 325\n"
     ]
    }
   ],
   "source": [
    "### Write a program to print sum of odd numbers and even numbers betweem 12 and 37(including both).\n",
    "\n",
    "s=0\n",
    "p=0\n",
    "for i in range(12,38,2):\n",
    "    s=s+i\n",
    "for i in range(13,38,2):\n",
    "    p=p+i\n",
    "\n",
    "print(\"Sum of even no is:\",s,\"\\nSum of odd number is:\",p)"
   ]
  },
  {
   "cell_type": "code",
   "execution_count": 3,
   "id": "f161eb3f",
   "metadata": {},
   "outputs": [
    {
     "name": "stdout",
     "output_type": "stream",
     "text": [
      "The numbers that are divisible by 11 but not 2 :\n",
      "121 143 165 187 209 231 253 275 297 319 341 363 385 407 429 451 473 495 "
     ]
    }
   ],
   "source": [
    "## Write a program to display the numbers divisible by 11 but not by 2 between 100 to 500.\n",
    "\n",
    "print(\"The numbers that are divisible by 11 but not 2 :\")\n",
    "for i in range(100,500):\n",
    "    if i%11==0:\n",
    "        if i%2==0:\n",
    "            continue\n",
    "        else:\n",
    "            print(i, end=' ')"
   ]
  },
  {
   "cell_type": "code",
   "execution_count": 4,
   "id": "47f8b198",
   "metadata": {},
   "outputs": [
    {
     "name": "stdout",
     "output_type": "stream",
     "text": [
      "The numbers except multiples of 2 & 3:\n",
      "1\n",
      "5\n",
      "7\n",
      "11\n",
      "13\n",
      "17\n",
      "19\n"
     ]
    }
   ],
   "source": [
    "## write a program to print 1 to 20 except multiples of 2 & 3.\n",
    "\n",
    "print(\"The numbers except multiples of 2 & 3:\")\n",
    "for i in range(1,20):\n",
    "    if i%2==0:\n",
    "        continue\n",
    "    elif i%3==0:\n",
    "        continue\n",
    "    else :\n",
    "        print(i)"
   ]
  },
  {
   "cell_type": "code",
   "execution_count": 19,
   "id": "d31e55bb",
   "metadata": {},
   "outputs": [
    {
     "name": "stdout",
     "output_type": "stream",
     "text": [
      "Enter a number:112\n",
      "binary of no. is: 1110000"
     ]
    }
   ],
   "source": [
    "###  write a program to convert decimal no. into binary no.\n",
    "\n",
    "a= int(input(\"Enter a number:\"))\n",
    "\n",
    "l=[]\n",
    "while a:\n",
    "        r=(a%2)\n",
    "        l.append(r)\n",
    "        a=a//2\n",
    "        \n",
    "print(\"binary of no. is:\",end=\" \")        \n",
    "for i in range(len(l)-1,-1,-1):\n",
    "    print(l[i],end=\"\")\n"
   ]
  },
  {
   "cell_type": "code",
   "execution_count": 17,
   "id": "fb26e289",
   "metadata": {},
   "outputs": [
    {
     "name": "stdout",
     "output_type": "stream",
     "text": [
      "\n",
      "A \n",
      "B C \n",
      "D E F \n",
      "G H I J \n"
     ]
    }
   ],
   "source": [
    "### Write a program to print Following pattern\n",
    "# A\n",
    "# B C\n",
    "# D E F\n",
    "# G H I J\n",
    "\n",
    "l=65\n",
    "for i in range(0,5):\n",
    "    for j in range(0,i):\n",
    "        print(chr(l),end=\" \")\n",
    "        l+=1\n",
    "    print()"
   ]
  },
  {
   "cell_type": "code",
   "execution_count": null,
   "id": "629c14c0",
   "metadata": {},
   "outputs": [],
   "source": []
  }
 ],
 "metadata": {
  "kernelspec": {
   "display_name": "Python 3 (ipykernel)",
   "language": "python",
   "name": "python3"
  },
  "language_info": {
   "codemirror_mode": {
    "name": "ipython",
    "version": 3
   },
   "file_extension": ".py",
   "mimetype": "text/x-python",
   "name": "python",
   "nbconvert_exporter": "python",
   "pygments_lexer": "ipython3",
   "version": "3.9.6"
  }
 },
 "nbformat": 4,
 "nbformat_minor": 5
}
