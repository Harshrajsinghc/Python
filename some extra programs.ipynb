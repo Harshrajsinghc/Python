{
 "cells": [
  {
   "cell_type": "code",
   "execution_count": 1,
   "id": "31ea6c4d",
   "metadata": {},
   "outputs": [
    {
     "name": "stdout",
     "output_type": "stream",
     "text": [
      "Welcome\n"
     ]
    }
   ],
   "source": [
    "### Write a progran to print \"Welcome\"\n",
    "\n",
    "print(\"Welcome\")"
   ]
  },
  {
   "cell_type": "code",
   "execution_count": 6,
   "id": "47557605",
   "metadata": {},
   "outputs": [
    {
     "name": "stdout",
     "output_type": "stream",
     "text": [
      "Enter a number:10\n",
      "Enter a number:20\n",
      "Sum of numbers is: 30\n"
     ]
    }
   ],
   "source": [
    "### Write a program sum.py that takes two numbers as command line argument and prints its sum.\n",
    "\n",
    "x=int(input(\"Enter a number:\"))\n",
    "y=int(input(\"Enter a number:\"))\n",
    "add= x+y\n",
    "print(\"Sum of numbers is:\",add)"
   ]
  },
  {
   "cell_type": "code",
   "execution_count": 7,
   "id": "43543b97",
   "metadata": {},
   "outputs": [
    {
     "name": "stdout",
     "output_type": "stream",
     "text": [
      "10\n",
      "<class 'int'>\n",
      "10.5\n",
      "<class 'float'>\n",
      "a\n",
      "<class 'str'>\n",
      "[10, 20, 30]\n",
      "<class 'list'>\n",
      "(10, 20, 30)\n",
      "<class 'tuple'>\n"
     ]
    }
   ],
   "source": [
    "### Write a program to demonstrate basic data type in python.\n",
    "\n",
    "x = 10\n",
    "print(x)\n",
    "print(type(x))\n",
    "\n",
    "x = 10.5\n",
    "print(x)\n",
    "print(type(x))\n",
    "\n",
    "x = 'a'\n",
    "print(x)\n",
    "print(type(x))\n",
    "\n",
    "x = [10,20,30]\n",
    "print(x)\n",
    "print(type(x))\n",
    "\n",
    "x = (10,20,30)\n",
    "print(x)\n",
    "print(type(x))\n"
   ]
  },
  {
   "cell_type": "code",
   "execution_count": 12,
   "id": "6ed85ac8",
   "metadata": {},
   "outputs": [
    {
     "name": "stdout",
     "output_type": "stream",
     "text": [
      "ASCII value of H is: 72\n",
      "ASCII value of A is: 65\n",
      "ASCII value of v is: 118\n"
     ]
    }
   ],
   "source": [
    "### Write a program to find the ASCII value of any three characters.\n",
    "\n",
    "ch='H'\n",
    "print(\"ASCII value of\",ch,\"is:\",ord(ch))\n",
    "\n",
    "ch='A'\n",
    "print(\"ASCII value of\",ch,\"is:\",ord(ch))\n",
    "\n",
    "ch='v'\n",
    "print(\"ASCII value of\",ch,\"is:\",ord(ch))"
   ]
  },
  {
   "cell_type": "code",
   "execution_count": 14,
   "id": "306c9c1e",
   "metadata": {},
   "outputs": [
    {
     "name": "stdout",
     "output_type": "stream",
     "text": [
      "Enter a number:48\n",
      "Enter a number:20\n",
      "Greatest common divisor of 48 and 20 is: 4\n"
     ]
    }
   ],
   "source": [
    "### Write a program to find GCD of two numbers\n",
    "\n",
    "a=int(input(\"Enter a number:\"))\n",
    "b=int(input(\"Enter a number:\"))\n",
    "if a>b:\n",
    "    temp=b\n",
    "else:\n",
    "    temp=a\n",
    "    \n",
    "for i in range(1,a+1):\n",
    "    if(a%i==0) and (b%i==0):\n",
    "        gcd=i\n",
    "\n",
    "print(\"Greatest common divisor of\",a,\"and\",b,\"is:\",gcd)"
   ]
  },
  {
   "cell_type": "code",
   "execution_count": 16,
   "id": "eb0980ba",
   "metadata": {},
   "outputs": [
    {
     "name": "stdout",
     "output_type": "stream",
     "text": [
      "Enter a base number:3\n",
      "Enter a exponential number:4\n",
      "Exponentiation of number is: 81\n"
     ]
    }
   ],
   "source": [
    "### To find the exponentiation of a number.\n",
    "\n",
    "a=int(input(\"Enter a base number:\"))\n",
    "b=int(input(\"Enter a exponential number:\"))\n",
    "exp=a\n",
    "for i in range(1,b):\n",
    "    exp=exp*a\n",
    "print(\"Exponentiation of number is:\",exp)"
   ]
  },
  {
   "cell_type": "code",
   "execution_count": 19,
   "id": "1c5591e1",
   "metadata": {},
   "outputs": [
    {
     "name": "stdout",
     "output_type": "stream",
     "text": [
      "Enter a string:hello\n",
      "olleh\n"
     ]
    }
   ],
   "source": [
    "### Write a ppython program that accepts the word from the user and reverse it.\n",
    "\n",
    "a = input(\"Enter a string:\")\n",
    "print(a[::-1])"
   ]
  },
  {
   "cell_type": "code",
   "execution_count": 22,
   "id": "8b599853",
   "metadata": {},
   "outputs": [
    {
     "name": "stdout",
     "output_type": "stream",
     "text": [
      "Even no. in the series is: 4\n",
      "Odd no. in the series is: 3\n"
     ]
    }
   ],
   "source": [
    "### write a python program to count even or odd numbers from the series of numbers.\n",
    "\n",
    "l=[34,35,36,37,38,39,40]\n",
    "a=0\n",
    "b=0\n",
    "for i in range(len(l)):\n",
    "    if l[i]%2 ==0:\n",
    "        a+=1\n",
    "    else:\n",
    "        b+=1\n",
    "print(\"Even no. in the series is:\",a)\n",
    "print(\"Odd no. in the series is:\",b)"
   ]
  },
  {
   "cell_type": "code",
   "execution_count": 23,
   "id": "f2ea08e3",
   "metadata": {},
   "outputs": [
    {
     "name": "stdout",
     "output_type": "stream",
     "text": [
      "Fibonacci series between 0 to 50 is: 1 1 2 3 5 8 13 21 34 "
     ]
    }
   ],
   "source": [
    "##Write a python program to get the fibonacci series between 0 to 50.\n",
    "\n",
    "a=0\n",
    "b=1\n",
    "add=0\n",
    "\n",
    "print(\"Fibonacci series between 0 to 50 is:\",b,end=\" \")\n",
    "while add<50 :\n",
    "    add = a+b\n",
    "    a=b\n",
    "    b=add\n",
    "    if add<50 :\n",
    "        \n",
    "        print(add,end=\" \")"
   ]
  },
  {
   "cell_type": "code",
   "execution_count": 24,
   "id": "a6dc7432",
   "metadata": {},
   "outputs": [
    {
     "name": "stdout",
     "output_type": "stream",
     "text": [
      "Enter a number:9\n",
      "Enter a number:8\n",
      "20\n"
     ]
    }
   ],
   "source": [
    "### Write a program to sum of two given integers.However, sum is between 15 to 20 then print 20.\n",
    "\n",
    "x=int(input(\"Enter a number:\"))\n",
    "y=int(input(\"Enter a number:\"))\n",
    "add= x+y\n",
    "if add==15 or add==16 or add==17 or add==18 or add==19 or add==20:\n",
    "    print(\"20\")"
   ]
  },
  {
   "cell_type": "code",
   "execution_count": 29,
   "id": "88c68f33",
   "metadata": {},
   "outputs": [
    {
     "name": "stdout",
     "output_type": "stream",
     "text": [
      "Enter a string:indore12delhi45goa78\n",
      "digits in the string is: 6\n",
      "Letters in the string is: 14\n"
     ]
    }
   ],
   "source": [
    "### Write a pyhton program that accepts a string and calculate the number of digits and letters.\n",
    "\n",
    "s=input(\"Enter a string:\")\n",
    "a=0\n",
    "b=0\n",
    "for i in range(len(s)):\n",
    "    if s[i]=='0'or s[i]=='1'or s[i]=='2'or s[i]=='3' or s[i]=='4'or s[i]=='5'or s[i]=='6'or s[i]=='7'or s[i]=='9'or s[i]=='8':\n",
    "        a+=1\n",
    "    else:\n",
    "        b+=1\n",
    "    \n",
    "print(\"digits in the string is:\",a)\n",
    "print(\"Letters in the string is:\",b)"
   ]
  },
  {
   "cell_type": "code",
   "execution_count": 35,
   "id": "d715ef5d",
   "metadata": {},
   "outputs": [
    {
     "name": "stdout",
     "output_type": "stream",
     "text": [
      "second smallest element is:  5\n",
      "second largest element is:  56\n"
     ]
    }
   ],
   "source": [
    "## Write a python program to find second smallest and largest element in a list\n",
    "\n",
    "l1 =[5, 7, 4, 67, 34, 56]\n",
    "l1.sort()\n",
    "print(\"second smallest element is: \",l1[1])\n",
    "print(\"second largest element is: \",l1[-2])"
   ]
  },
  {
   "cell_type": "code",
   "execution_count": 37,
   "id": "1502bda0",
   "metadata": {},
   "outputs": [
    {
     "name": "stdout",
     "output_type": "stream",
     "text": [
      "After subtract:  [2, 4, 13]\n"
     ]
    }
   ],
   "source": [
    "### Find intersection of two list and two nested list.\n",
    "\n",
    "l=[1,2,3,4,13,15]\n",
    "l1=[2,8,4,10,12,13]\n",
    "l2=[]\n",
    "\n",
    "for i in range(len(l)):\n",
    "    for j in range(len(l1)):\n",
    "        if l[i]==l1[j]:\n",
    "            a=l[i]\n",
    "            l2.append(a)\n",
    "    \n",
    "print(\"After subtract: \",l2)"
   ]
  },
  {
   "cell_type": "code",
   "execution_count": 38,
   "id": "a6663415",
   "metadata": {},
   "outputs": [
    {
     "name": "stdout",
     "output_type": "stream",
     "text": [
      "[45, 36, 78, 23, 67, 12]\n",
      "Maximum no. is: 78\n"
     ]
    }
   ],
   "source": [
    "### Find the maximum from a list of numbers.\n",
    "\n",
    "l=[45,36,78,23,67,12]\n",
    "print(l)\n",
    "print(\"Maximum no. is:\",max(l))"
   ]
  },
  {
   "cell_type": "code",
   "execution_count": 39,
   "id": "f277d712",
   "metadata": {},
   "outputs": [
    {
     "name": "stdout",
     "output_type": "stream",
     "text": [
      "(0, 1, 10, 2, 3)\n"
     ]
    }
   ],
   "source": [
    "### Add item in a tuple\n",
    "\n",
    "t=(0,1,2,3)\n",
    "l=list(t)\n",
    "l.insert(2,10)\n",
    "t1= tuple(l)\n",
    "print(t1)"
   ]
  },
  {
   "cell_type": "code",
   "execution_count": 41,
   "id": "d0f96745",
   "metadata": {},
   "outputs": [
    {
     "name": "stdout",
     "output_type": "stream",
     "text": [
      "(0, 1, 10, 2, 3)\n",
      "string is: (0, 1, 10, 2, 3)\n"
     ]
    }
   ],
   "source": [
    "### Convert a tuple into string.\n",
    "print(t1)\n",
    "s=str(t1)\n",
    "print(\"string is:\",s)"
   ]
  },
  {
   "cell_type": "code",
   "execution_count": 42,
   "id": "af302f21",
   "metadata": {},
   "outputs": [
    {
     "name": "stdout",
     "output_type": "stream",
     "text": [
      "{16, 2, 4, 6, 7, 13}\n"
     ]
    }
   ],
   "source": [
    "### Write program to remove an item from a set of it is present in the set\n",
    "\n",
    "s={4,6,7,2,8,16,13}\n",
    "s.remove(8)\n",
    "print(s)"
   ]
  },
  {
   "cell_type": "code",
   "execution_count": 43,
   "id": "08181b36",
   "metadata": {},
   "outputs": [
    {
     "name": "stdout",
     "output_type": "stream",
     "text": [
      "{8, 2, 4}\n"
     ]
    }
   ],
   "source": [
    "### Write a program to create an intersection of the set.\n",
    "\n",
    "s={4,6,7,2,8,16,13}\n",
    "s1={9,8,4,2, 19,18}\n",
    "print(s & s1)"
   ]
  },
  {
   "cell_type": "code",
   "execution_count": 44,
   "id": "ae618a2d",
   "metadata": {},
   "outputs": [
    {
     "data": {
      "text/plain": [
       "{0: 10, 1: 20, 2: 30}"
      ]
     },
     "execution_count": 44,
     "metadata": {},
     "output_type": "execute_result"
    }
   ],
   "source": [
    "### To add a key to a dictionary.\n",
    "\n",
    "## write a python script to add a key to a dictionary.\n",
    "\n",
    "dict1={0:10,1:20}\n",
    "dict1[2]=30\n",
    "dict1"
   ]
  },
  {
   "cell_type": "code",
   "execution_count": 45,
   "id": "11079e86",
   "metadata": {},
   "outputs": [
    {
     "name": "stdout",
     "output_type": "stream",
     "text": [
      "key exist.\n",
      "key exist.\n",
      "key doesn't exist\n"
     ]
    }
   ],
   "source": [
    "###  Write a python script to check whether a given key already exist in a dictionary.\n",
    "\n",
    "def key(a):\n",
    "    if a in dict1:\n",
    "        print(\"key exist.\")\n",
    "    else:\n",
    "        print(\"key doesn't exist\")\n",
    "dict1={0: 10, 1: 20, 2: 40, 3: 50, 4: 60, 5: 30, 6: 70, 7: 80,\"apple\":'banana',\"hi\":'hello'}\n",
    "key(4)\n",
    "key(\"apple\")\n",
    "key(\"mango\")"
   ]
  },
  {
   "cell_type": "code",
   "execution_count": 46,
   "id": "8d039ebd",
   "metadata": {},
   "outputs": [
    {
     "data": {
      "text/plain": [
       "{0: 10, 1: 20, 2: 40, 3: 50, 4: 60}"
      ]
     },
     "execution_count": 46,
     "metadata": {},
     "output_type": "execute_result"
    }
   ],
   "source": [
    "### Write a program to merge two dictionary.\n",
    "\n",
    "dict1={0:10,1:20}\n",
    "dict2={2:40,3:50,4:60}\n",
    "dict1.update(dict2)\n",
    "dict1"
   ]
  },
  {
   "cell_type": "code",
   "execution_count": 1,
   "id": "8941f0ea",
   "metadata": {},
   "outputs": [
    {
     "name": "stdout",
     "output_type": "stream",
     "text": [
      "Enter a number:5\n",
      "120\n"
     ]
    }
   ],
   "source": [
    "### Write a pyhton fuction to calculate the factorial of a number. The function accepts the number as an argument.\n",
    "\n",
    "def fact_(n):\n",
    "    s=1\n",
    "    for i in range(n,0,-1):\n",
    "        s=s*i\n",
    "    print(s)\n",
    "a=int(input(\"Enter a number:\"))\n",
    "fact_(a)"
   ]
  },
  {
   "cell_type": "code",
   "execution_count": 2,
   "id": "ccf42b53",
   "metadata": {},
   "outputs": [
    {
     "name": "stdout",
     "output_type": "stream",
     "text": [
      "New list is: [1, 2, 3, 4]\n"
     ]
    }
   ],
   "source": [
    "### Write a python function that takes a list and returns a new list with unique elements of the first list.\n",
    "\n",
    "def unique(l):\n",
    "    \n",
    "    l1=[]\n",
    "    for i in l:\n",
    "        if i not in l1:\n",
    "            l1.append(i)\n",
    "            \n",
    "    print(\"New list is:\",l1)\n",
    "    \n",
    "a=[1,2,2,3,4,4]\n",
    "unique(a)"
   ]
  },
  {
   "cell_type": "code",
   "execution_count": 2,
   "id": "41cd00c2",
   "metadata": {},
   "outputs": [
    {
     "data": {
      "text/plain": [
       "array([50, 60, 80, 90])"
      ]
     },
     "execution_count": 2,
     "metadata": {},
     "output_type": "execute_result"
    }
   ],
   "source": [
    "### Write a program to remove specified item using the index from an array.\n",
    "\n",
    "import numpy as np\n",
    "a=np.array([50,60,70,80,90])\n",
    "i=2\n",
    "a=np.delete(a,i)\n",
    "a"
   ]
  },
  {
   "cell_type": "code",
   "execution_count": 6,
   "id": "36c8ca42",
   "metadata": {},
   "outputs": [
    {
     "data": {
      "text/plain": [
       "array([50, 20, 60, 80, 90])"
      ]
     },
     "execution_count": 6,
     "metadata": {},
     "output_type": "execute_result"
    }
   ],
   "source": [
    "### To insert a new item before the second element in an existing array.\n",
    "\n",
    "\n",
    "a = np.insert(a,1,20)\n",
    "a"
   ]
  },
  {
   "cell_type": "code",
   "execution_count": 9,
   "id": "6b080b44",
   "metadata": {},
   "outputs": [
    {
     "name": "stdout",
     "output_type": "stream",
     "text": [
      "this is file1 of text type. \n"
     ]
    }
   ],
   "source": [
    "### Display contents of given file.\n",
    "\n",
    "f= open(\"file1.txt\",\"r\")\n",
    "print(f.read())\n",
    "f.close()"
   ]
  },
  {
   "cell_type": "code",
   "execution_count": 10,
   "id": "aebd8798",
   "metadata": {},
   "outputs": [
    {
     "name": "stdout",
     "output_type": "stream",
     "text": [
      "['This', 'is', 'a', 'write.', 'yes', 'i', 'know', 'the', 'file2.']\n"
     ]
    }
   ],
   "source": [
    "### To read a file line by line store it into an array.\n",
    "\n",
    "f= open(\"file2.txt\",\"r\")\n",
    "a=[]\n",
    "data = f.read()\n",
    "l=data.split()\n",
    "for i in l:\n",
    "    a.append(i)\n",
    "print(a)"
   ]
  },
  {
   "cell_type": "code",
   "execution_count": 12,
   "id": "0a865ef3",
   "metadata": {},
   "outputs": [
    {
     "name": "stdout",
     "output_type": "stream",
     "text": [
      "this 1\n",
      "write 1\n",
      "yes 1\n",
      "know 1\n",
      "the 1\n"
     ]
    }
   ],
   "source": [
    "### To count the frequency of words in a file.\n",
    "\n",
    "import re\n",
    "frequency={}\n",
    "f=open(\"file2.txt\",\"r\")\n",
    "data=f.read().lower()\n",
    "pat = re.findall(r'\\b[a-z]{3,15}\\b',data)\n",
    "for word in pat:\n",
    "    count=frequency.get(word,0)\n",
    "    frequency[word]=count+1\n",
    "f_l=frequency.keys()\n",
    "for words in f_l:\n",
    "    print(words,frequency[words])"
   ]
  },
  {
   "cell_type": "code",
   "execution_count": 13,
   "id": "628c6c78",
   "metadata": {},
   "outputs": [
    {
     "name": "stdout",
     "output_type": "stream",
     "text": [
      "Enter a key you want to search:17\n",
      "Element found.\n"
     ]
    }
   ],
   "source": [
    "### To write a python program to perform a linear search.\n",
    "\n",
    "def linear(l,x):\n",
    "    a=0\n",
    "    for i in range(len(l)):\n",
    "        if l[i]==x:\n",
    "            a+=1\n",
    "    \n",
    "    if a==0:\n",
    "        print(\"Element not found.\")\n",
    "    else:\n",
    "        print(\"Element found.\")\n",
    "l=[5, 7,3,19,24,17,67,2,43,14,87,53,77,28,37,95]\n",
    "x=int(input(\"Enter a key you want to search:\"))\n",
    "linear(l,x)\n"
   ]
  },
  {
   "cell_type": "code",
   "execution_count": 16,
   "id": "099829f5",
   "metadata": {},
   "outputs": [
    {
     "name": "stdout",
     "output_type": "stream",
     "text": [
      "Element not found.\n"
     ]
    }
   ],
   "source": [
    "linear(l,20)"
   ]
  },
  {
   "cell_type": "code",
   "execution_count": 17,
   "id": "f1d530c7",
   "metadata": {},
   "outputs": [
    {
     "name": "stdout",
     "output_type": "stream",
     "text": [
      "Element found\n"
     ]
    }
   ],
   "source": [
    "### To write a program to binary search.\n",
    "\n",
    "def binary(l,n):\n",
    "    low =0\n",
    "    high=len(l)-1\n",
    "    mid=0\n",
    "    while low<=high:\n",
    "        mid=(high+low)//2\n",
    "        if l[mid]<n:\n",
    "            low=mid+1\n",
    "        elif l[mid]>n:\n",
    "            high=mid-1\n",
    "        else:\n",
    "            return mid\n",
    "\n",
    "l=[5, 7,3,19,24,17,67,2,43,14,87,53,77,28,37,95]\n",
    "n=67\n",
    "a= binary(l,n)\n",
    "if a!=-1:\n",
    "    print(\"Element found\")\n",
    "else:\n",
    "    print(\"Element not found\")"
   ]
  },
  {
   "cell_type": "code",
   "execution_count": 25,
   "id": "ac7e793f",
   "metadata": {},
   "outputs": [
    {
     "name": "stdout",
     "output_type": "stream",
     "text": [
      "The array after sorting in Ascending Order by selection sort is:\n",
      "[-202, -97, -9, -2, 0, 11, 45, 88, 747]\n"
     ]
    }
   ],
   "source": [
    "### Write a program to selection sort\n",
    "\n",
    "def selectionSort(array, size):\n",
    "    \n",
    "    for ind in range(size):\n",
    "        min_index = ind\n",
    " \n",
    "        for j in range(ind + 1, size):\n",
    "            # select the minimum element in every iteration\n",
    "            if array[j] < array[min_index]:\n",
    "                min_index = j\n",
    "         # swapping the elements to sort the array\n",
    "        (array[ind], array[min_index]) = (array[min_index], array[ind])\n",
    "\n",
    "        \n",
    "arr = [-2, 45, 0, 11, -9,88,-97,-202,747]\n",
    "size = len(arr)\n",
    "selectionSort(arr, size)\n",
    "print('The array after sorting in Ascending Order by selection sort is:')\n",
    "print(arr)"
   ]
  },
  {
   "cell_type": "code",
   "execution_count": 26,
   "id": "9d13ead6",
   "metadata": {},
   "outputs": [
    {
     "name": "stdout",
     "output_type": "stream",
     "text": [
      "[5, 6, 11, 12, 13]\n"
     ]
    }
   ],
   "source": [
    "### Write a program to insertion sort\n",
    "\n",
    "def insertionSort(arr):\n",
    "    \n",
    "    for i in range(1, len(arr)):\n",
    "        key = arr[i]\n",
    "        j = i-1\n",
    "        while j >=0 and key < arr[j] :\n",
    "                arr[j+1] = arr[j]\n",
    "                j -= 1\n",
    "        arr[j+1] = key\n",
    "\n",
    "arr = [12, 11, 13, 5, 6]\n",
    "insertionSort(arr)\n",
    "print(arr)"
   ]
  },
  {
   "cell_type": "code",
   "execution_count": 27,
   "id": "bb3697d3",
   "metadata": {},
   "outputs": [
    {
     "name": "stdout",
     "output_type": "stream",
     "text": [
      "Given array is\n",
      "12 11 13 5 6 7 \n",
      "\n",
      "Sorted array is\n",
      "5 6 7 11 12 13 "
     ]
    }
   ],
   "source": [
    "### Write a program to merge sort\n",
    "\n",
    "def merge(arr, l, m, r):\n",
    "    n1 = m - l + 1\n",
    "    n2 = r - m\n",
    "    L = [0] * (n1)\n",
    "    R = [0] * (n2)\n",
    "    for i in range(0, n1):\n",
    "        L[i] = arr[l + i]\n",
    " \n",
    "    for j in range(0, n2):\n",
    "        R[j] = arr[m + 1 + j]\n",
    " \n",
    "    \n",
    "    i = 0     \n",
    "    j = 0     \n",
    "    k = l     \n",
    " \n",
    "    while i < n1 and j < n2:\n",
    "        if L[i] <= R[j]:\n",
    "            arr[k] = L[i]\n",
    "            i += 1\n",
    "        else:\n",
    "            arr[k] = R[j]\n",
    "            j += 1\n",
    "        k += 1\n",
    "    while i < n1:\n",
    "        arr[k] = L[i]\n",
    "        i += 1\n",
    "        k += 1\n",
    " \n",
    "    while j < n2:\n",
    "        arr[k] = R[j]\n",
    "        j += 1\n",
    "        k += 1\n",
    " \n",
    " \n",
    "def mergeSort(arr, l, r):\n",
    "    if l < r:\n",
    "        m = l+(r-l)//2\n",
    "        mergeSort(arr, l, m)\n",
    "        mergeSort(arr, m+1, r)\n",
    "        merge(arr, l, m, r)\n",
    "        \n",
    "arr = [12, 11, 13, 5, 6, 7]\n",
    "n = len(arr)\n",
    "print(\"Given array is\")\n",
    "for i in range(n):\n",
    "    print(\"%d\" % arr[i],end=\" \")\n",
    "mergeSort(arr, 0, n-1)\n",
    "print(\"\\n\\nSorted array is\")\n",
    "for i in range(n):\n",
    "    print(\"%d\" % arr[i],end=\" \")\n",
    " "
   ]
  },
  {
   "cell_type": "code",
   "execution_count": null,
   "id": "8134188c",
   "metadata": {},
   "outputs": [],
   "source": []
  }
 ],
 "metadata": {
  "kernelspec": {
   "display_name": "Python 3 (ipykernel)",
   "language": "python",
   "name": "python3"
  },
  "language_info": {
   "codemirror_mode": {
    "name": "ipython",
    "version": 3
   },
   "file_extension": ".py",
   "mimetype": "text/x-python",
   "name": "python",
   "nbconvert_exporter": "python",
   "pygments_lexer": "ipython3",
   "version": "3.9.6"
  }
 },
 "nbformat": 4,
 "nbformat_minor": 5
}
