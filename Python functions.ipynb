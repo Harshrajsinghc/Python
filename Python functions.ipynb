{
 "cells": [
  {
   "cell_type": "code",
   "execution_count": 6,
   "id": "97c5b9fd",
   "metadata": {},
   "outputs": [
    {
     "name": "stdout",
     "output_type": "stream",
     "text": [
      "Enter a number:112\n",
      "Enter a number:231\n",
      "Enter a number:234\n",
      "Maximum is: 234\n"
     ]
    }
   ],
   "source": [
    "## Write a python function to find the max of three numbers.\n",
    "\n",
    "def max1(x,y,z):\n",
    "    if (x>=y) and (x>=z):\n",
    "        largest= x\n",
    "    elif (y>=x) and (y>=z):\n",
    "        largest= y\n",
    "    else:\n",
    "        largest= z\n",
    "    \n",
    "    print(\"Maximum is:\",largest)\n",
    "\n",
    "x= int(input(\"Enter a number:\"))\n",
    "y= int(input(\"Enter a number:\"))\n",
    "z= int(input(\"Enter a number:\"))\n",
    "max1(x,y,z)\n",
    "\n"
   ]
  },
  {
   "cell_type": "code",
   "execution_count": 20,
   "id": "7a6a04d5",
   "metadata": {},
   "outputs": [
    {
     "name": "stdout",
     "output_type": "stream",
     "text": [
      "Enter how many numbers do you want to enter in a list:4\n",
      "Enter a number:1\n",
      "Enter a number:2\n",
      "Enter a number:3\n",
      "Enter a number:4\n",
      "[1, 2, 3, 4]\n"
     ]
    },
    {
     "data": {
      "text/plain": [
       "10"
      ]
     },
     "execution_count": 20,
     "metadata": {},
     "output_type": "execute_result"
    }
   ],
   "source": [
    "### Write a python functions to sum all the numbers in a list.\n",
    "\n",
    "def sum_list(list):\n",
    "    add=0\n",
    "    for j in range(len(list)):\n",
    "        add=add+list[j]\n",
    "    return add     \n",
    "\n",
    "l=[]\n",
    "i=0\n",
    "n= int(input(\"Enter how many numbers do you want to enter in a list:\"))\n",
    "while i<n:\n",
    "    b= int(input(\"Enter a number:\"))\n",
    "    l.append(b)\n",
    "    i+=1\n",
    "    \n",
    "print(l)\n",
    "sum_list(l)"
   ]
  },
  {
   "cell_type": "code",
   "execution_count": 21,
   "id": "0dce26d5",
   "metadata": {},
   "outputs": [
    {
     "name": "stdout",
     "output_type": "stream",
     "text": [
      "Enter how many numbers do you want to enter in a list:4\n",
      "Enter a number:1\n",
      "Enter a number:2\n",
      "Enter a number:3\n",
      "Enter a number:4\n",
      "[1, 2, 3, 4]\n"
     ]
    },
    {
     "data": {
      "text/plain": [
       "24"
      ]
     },
     "execution_count": 21,
     "metadata": {},
     "output_type": "execute_result"
    }
   ],
   "source": [
    "### Write a python function to multiply all the numbers in a list\n",
    "\n",
    "def mul_list(list):\n",
    "    add=1\n",
    "    for j in range(len(list)):\n",
    "        add=add*list[j]\n",
    "    return add     \n",
    "\n",
    "l=[]\n",
    "i=0\n",
    "n= int(input(\"Enter how many numbers do you want to enter in a list:\"))\n",
    "while i<n:\n",
    "    b= int(input(\"Enter a number:\"))\n",
    "    l.append(b)\n",
    "    i+=1\n",
    "    \n",
    "print(l)\n",
    "mul_list(l)"
   ]
  },
  {
   "cell_type": "code",
   "execution_count": 2,
   "id": "d269ab3d",
   "metadata": {},
   "outputs": [
    {
     "name": "stdout",
     "output_type": "stream",
     "text": [
      "Enter a string:harshraj6261\n",
      "harshraj6261\n",
      "1626jarhsrah\n"
     ]
    }
   ],
   "source": [
    "### Write a python function to reverse a string.\n",
    "\n",
    "def reverse(str):\n",
    "    print(str)\n",
    "    print(str[ : :-1 ])\n",
    "\n",
    "s= input(\"Enter a string:\")\n",
    "reverse(s)"
   ]
  },
  {
   "cell_type": "code",
   "execution_count": 4,
   "id": "c3dd539d",
   "metadata": {},
   "outputs": [
    {
     "name": "stdout",
     "output_type": "stream",
     "text": [
      "Enter a number:6\n",
      "720\n"
     ]
    }
   ],
   "source": [
    "### Write a pyhton fuction to calculate the factorial of a number. The function accepts the number as an argument.\n",
    "\n",
    "\n",
    "def fact_(n):\n",
    "    s=1\n",
    "    for i in range(n,0,-1):\n",
    "        s=s*i\n",
    "    print(s)\n",
    "a=int(input(\"Enter a number:\"))\n",
    "fact_(a)\n"
   ]
  },
  {
   "cell_type": "code",
   "execution_count": 13,
   "id": "a6eee733",
   "metadata": {},
   "outputs": [
    {
     "name": "stdout",
     "output_type": "stream",
     "text": [
      "2 is out of range\n"
     ]
    }
   ],
   "source": [
    "### Write a python function to check whether a number is in a given range\n",
    "\n",
    "def check_range(a,b,c):\n",
    "    if a in range(b,c):\n",
    "        \n",
    "            print(a,\"is in the range of\",b,\"and\",c)\n",
    "    else:\n",
    "            print(a,\"is out of range\")\n",
    "    \n",
    "check_range(2,3,9)"
   ]
  },
  {
   "cell_type": "code",
   "execution_count": 17,
   "id": "d3b960f7",
   "metadata": {},
   "outputs": [
    {
     "name": "stdout",
     "output_type": "stream",
     "text": [
      "Enter starting point of range:3\n",
      "Enter ending point of range:9\n",
      "Enter number to find in range:5\n",
      "5 is in the range of 3 and 9\n"
     ]
    }
   ],
   "source": [
    "y=int(input(\"Enter starting point of range:\"))\n",
    "z=int(input(\"Enter ending point of range:\"))\n",
    "x=int(input(\"Enter number to find in range:\"))\n",
    "check_range(x,y,z)"
   ]
  },
  {
   "cell_type": "code",
   "execution_count": 29,
   "id": "0f66c49a",
   "metadata": {},
   "outputs": [],
   "source": [
    "###Write a python function that accepts a string and calculate the number of upper case letters and lowecase letters.\n",
    "\n",
    "def char_case(s):\n",
    "    x=0\n",
    "    y=0\n",
    "    for i in s:\n",
    "        if i.isupper():\n",
    "            x+=1\n",
    "        elif i.islower():\n",
    "            y+=1\n",
    "    \n",
    "    print(\"Uppercase letters are:\",x,\"\\nLowercase letters are:\",y)\n",
    "    "
   ]
  },
  {
   "cell_type": "code",
   "execution_count": 30,
   "id": "07cbe74b",
   "metadata": {},
   "outputs": [
    {
     "name": "stdout",
     "output_type": "stream",
     "text": [
      "Enter a string:The Moon\n",
      "Uppercase letters are: 2 \n",
      "Lowercase letters are: 5\n"
     ]
    }
   ],
   "source": [
    "a=input(\"Enter a string:\")\n",
    "char_case(a)"
   ]
  },
  {
   "cell_type": "code",
   "execution_count": 46,
   "id": "695f88f8",
   "metadata": {},
   "outputs": [
    {
     "name": "stdout",
     "output_type": "stream",
     "text": [
      "New list is: [1, 2, 3, 4]\n"
     ]
    }
   ],
   "source": [
    "### Write a python function that takes a list and returns a new list with unique elements of the first list.\n",
    "\n",
    "def unique(l):\n",
    "    \n",
    "    l1=[]\n",
    "    for i in l:\n",
    "        if i not in l1:\n",
    "            l1.append(i)\n",
    "            \n",
    "    print(\"New list is:\",l1)\n",
    "    \n",
    "a=[1,2,2,3,4,4]\n",
    "unique(a)"
   ]
  },
  {
   "cell_type": "code",
   "execution_count": 58,
   "id": "d9daa4e4",
   "metadata": {},
   "outputs": [
    {
     "name": "stdout",
     "output_type": "stream",
     "text": [
      "not prime\n"
     ]
    }
   ],
   "source": [
    "## Write a python function that takes a number as a paraneter and check the number is prime or not.\n",
    "\n",
    "def prime(n):\n",
    "    a=0\n",
    "    \n",
    "    for i in range(2,n):\n",
    "        if n%i==0:\n",
    "            a+=1\n",
    "    if a==0:\n",
    "        print(\"no. is prime\")\n",
    "    else:\n",
    "        print(\"not prime\")\n",
    "        \n",
    "\n",
    "prime(4)"
   ]
  },
  {
   "cell_type": "code",
   "execution_count": 61,
   "id": "9a829733",
   "metadata": {},
   "outputs": [],
   "source": [
    "### write a python function to check a number is perfect or not.\n",
    "\n",
    "def perfect(n):\n",
    "    add=0\n",
    "    for i in range(1,n):\n",
    "        if n%i==0:\n",
    "            add=add+i\n",
    "    if add==n:\n",
    "        print(n,\"is perfect no.\")\n",
    "    else:\n",
    "        print(n,\"is not a perfect no.\")\n",
    "    \n"
   ]
  },
  {
   "cell_type": "code",
   "execution_count": 66,
   "id": "1637485b",
   "metadata": {},
   "outputs": [
    {
     "name": "stdout",
     "output_type": "stream",
     "text": [
      "Enter a number to check perfect:12\n",
      "12 is not a perfect no.\n",
      "28 is perfect no.\n"
     ]
    }
   ],
   "source": [
    "a=int(input(\"Enter a number to check perfect:\"))\n",
    "perfect(a)\n",
    "perfect(28)"
   ]
  },
  {
   "cell_type": "code",
   "execution_count": 78,
   "id": "8339bc62",
   "metadata": {},
   "outputs": [
    {
     "name": "stdout",
     "output_type": "stream",
     "text": [
      "string is pallindrome.\n",
      "string is not pallindrome.\n"
     ]
    }
   ],
   "source": [
    "### Write a python function that checks string is pallindrome or not.\n",
    "\n",
    "def pallindrome(s):\n",
    "    \n",
    "    if s==s[ : :-1]:\n",
    "        print(\"string is pallindrome.\")\n",
    "    else:\n",
    "        print(\"string is not pallindrome.\")\n",
    "a=\"madam\"\n",
    "b=\"sir\"\n",
    "pallindrome(a)\n",
    "pallindrome(b)"
   ]
  },
  {
   "cell_type": "code",
   "execution_count": 86,
   "id": "f9deb571",
   "metadata": {},
   "outputs": [
    {
     "name": "stdout",
     "output_type": "stream",
     "text": [
      "black-green-red-white-yellow\n"
     ]
    }
   ],
   "source": [
    "## Write a python function to create a hyphen separated sequence of words as input and prints the words in a hyphen separated \n",
    "## sequnces after sorting them alphabetivally.\n",
    "\n",
    "\n",
    "def hyphen(s):\n",
    "    p=s.split('-')\n",
    "    p.sort()\n",
    "    print('-'.join(p))\n",
    "    \n",
    "a=\"green-red-yellow-black-white\"\n",
    "hyphen(a)"
   ]
  },
  {
   "cell_type": "code",
   "execution_count": 88,
   "id": "e2b601ce",
   "metadata": {},
   "outputs": [],
   "source": [
    "### Write s recursive function to calculate the sum of number from 0 to 10.\n",
    "\n",
    "def add(a):\n",
    "    if a==0:\n",
    "        return 0\n",
    "    else:\n",
    "        return(a+add(a-1))"
   ]
  },
  {
   "cell_type": "code",
   "execution_count": 89,
   "id": "2ae99fbb",
   "metadata": {},
   "outputs": [
    {
     "name": "stdout",
     "output_type": "stream",
     "text": [
      "sum of numbers between 0 to 10 is: 55\n"
     ]
    }
   ],
   "source": [
    "print(\"sum of numbers between 0 to 10 is:\",add(10))"
   ]
  },
  {
   "cell_type": "markdown",
   "id": "076eecac",
   "metadata": {},
   "source": [
    "## Anonymous function (lambda function)"
   ]
  },
  {
   "cell_type": "code",
   "execution_count": 90,
   "id": "e7082437",
   "metadata": {},
   "outputs": [
    {
     "name": "stdout",
     "output_type": "stream",
     "text": [
      "15\n"
     ]
    }
   ],
   "source": [
    "x= lambda a:a+10\n",
    "print(x(5))"
   ]
  },
  {
   "cell_type": "code",
   "execution_count": 91,
   "id": "e9fe5eee",
   "metadata": {},
   "outputs": [
    {
     "name": "stdout",
     "output_type": "stream",
     "text": [
      "50\n"
     ]
    }
   ],
   "source": [
    "## lambda function with multiple argument\n",
    "\n",
    "y= lambda a,b : a*b\n",
    "print(y(5,10))"
   ]
  },
  {
   "cell_type": "code",
   "execution_count": 92,
   "id": "3a0d7677",
   "metadata": {},
   "outputs": [
    {
     "name": "stdout",
     "output_type": "stream",
     "text": [
      "30\n"
     ]
    }
   ],
   "source": [
    "## Create a function without any name that can accepts two arguments and print sum of its value.\n",
    "\n",
    "z=lambda a,b: a+b\n",
    "print(z(10,20))"
   ]
  },
  {
   "cell_type": "code",
   "execution_count": null,
   "id": "7f5b1cea",
   "metadata": {},
   "outputs": [],
   "source": []
  }
 ],
 "metadata": {
  "kernelspec": {
   "display_name": "Python 3 (ipykernel)",
   "language": "python",
   "name": "python3"
  },
  "language_info": {
   "codemirror_mode": {
    "name": "ipython",
    "version": 3
   },
   "file_extension": ".py",
   "mimetype": "text/x-python",
   "name": "python",
   "nbconvert_exporter": "python",
   "pygments_lexer": "ipython3",
   "version": "3.9.6"
  }
 },
 "nbformat": 4,
 "nbformat_minor": 5
}
