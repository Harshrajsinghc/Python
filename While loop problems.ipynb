{
 "cells": [
  {
   "cell_type": "code",
   "execution_count": 1,
   "id": "0ca0dc06",
   "metadata": {},
   "outputs": [
    {
     "name": "stdout",
     "output_type": "stream",
     "text": [
      "Element is: 1452\n",
      "Datatype of element is: <class 'int'>\n",
      "Element is: 11.23\n",
      "Datatype of element is: <class 'float'>\n",
      "Element is: (1+2j)\n",
      "Datatype of element is: <class 'complex'>\n",
      "Element is: True\n",
      "Datatype of element is: <class 'bool'>\n",
      "Element is: w3resource\n",
      "Datatype of element is: <class 'str'>\n",
      "Element is: (0, -1)\n",
      "Datatype of element is: <class 'tuple'>\n",
      "Element is: [5, 12]\n",
      "Datatype of element is: <class 'list'>\n",
      "Element is: {'class': 'V', 'Section': 'A'}\n",
      "Datatype of element is: <class 'dict'>\n"
     ]
    }
   ],
   "source": [
    "## Write a python program that prints each item and its corresponding type from the following list.\n",
    "##Sample list: datalist= [1452, 11.23, 1+2j,True, 'w3resource', (0, -1), [5,12],{\"class\":'V',\"Section\":'A'}]\n",
    "\n",
    "\n",
    "i=0\n",
    "datalist= [1452, 11.23, 1+2j,True, 'w3resource', (0, -1), [5,12],{\"class\":'V',\"Section\":'A'}]\n",
    "\n",
    "while i<=7 :\n",
    "    print(\"Element is:\",datalist[i])\n",
    "    print(\"Datatype of element is:\",type(datalist[i]))\n",
    "   \n",
    "    i+= 1"
   ]
  },
  {
   "cell_type": "code",
   "execution_count": 2,
   "id": "a7c6fefe",
   "metadata": {},
   "outputs": [
    {
     "name": "stdout",
     "output_type": "stream",
     "text": [
      "Fibonacci series between 0 to 50 is: 1 1 2 3 5 8 13 21 34 "
     ]
    }
   ],
   "source": [
    "##Write a python program to get the fibonacci series between 0 to 50.\n",
    "\n",
    "a=0\n",
    "b=1\n",
    "add=0\n",
    "\n",
    "print(\"Fibonacci series between 0 to 50 is:\",b,end=\" \")\n",
    "while add<50 :\n",
    "    add = a+b\n",
    "    a=b\n",
    "    b=add\n",
    "    if add<50 :\n",
    "        \n",
    "        print(add,end=\" \")"
   ]
  },
  {
   "cell_type": "code",
   "execution_count": 3,
   "id": "8d7a0f91",
   "metadata": {},
   "outputs": [
    {
     "name": "stdout",
     "output_type": "stream",
     "text": [
      "1\n",
      "2\n",
      "Fizz\n",
      "4\n",
      "Buzz\n",
      "Fizz\n",
      "7\n",
      "8\n",
      "Fizz\n",
      "Buzz\n",
      "11\n",
      "Fizz\n",
      "13\n",
      "14\n",
      "FizzBuzz\n",
      "16\n",
      "17\n",
      "Fizz\n",
      "19\n",
      "Buzz\n",
      "Fizz\n",
      "22\n",
      "23\n",
      "Fizz\n",
      "Buzz\n",
      "26\n",
      "Fizz\n",
      "28\n",
      "29\n",
      "FizzBuzz\n",
      "31\n",
      "32\n",
      "Fizz\n",
      "34\n",
      "Buzz\n",
      "Fizz\n",
      "37\n",
      "38\n",
      "Fizz\n",
      "Buzz\n",
      "41\n",
      "Fizz\n",
      "43\n",
      "44\n",
      "FizzBuzz\n",
      "46\n",
      "47\n",
      "Fizz\n",
      "49\n",
      "Buzz\n"
     ]
    }
   ],
   "source": [
    "##Write a python program which iterates the integers from 1 to 50. For multiples of three print \"Fizz\" instead of the number\n",
    "##and for the multiple of 5 print \"Buzz\". For numbers which are multiple of both 3 & 5 print \"FizzBuzz\".\n",
    "\n",
    "\n",
    "i=1\n",
    "while i<=50 :\n",
    "    if i%3==0 and i%5==0 :\n",
    "        print(\"FizzBuzz\")\n",
    "    \n",
    "    elif i%3==0 :\n",
    "        print(\"Fizz\")\n",
    "    \n",
    "    elif i%5==0 :\n",
    "        print(\"Buzz\")\n",
    "    \n",
    "    else :\n",
    "        print(i)\n",
    "    \n",
    "    i+=1"
   ]
  },
  {
   "cell_type": "code",
   "execution_count": 11,
   "id": "7d404630",
   "metadata": {},
   "outputs": [
    {
     "name": "stdout",
     "output_type": "stream",
     "text": [
      "**** \n",
      "*   *\n",
      "*   *\n",
      "*****\n",
      "*   *\n",
      "*   *\n",
      "*   *\n"
     ]
    }
   ],
   "source": [
    "##Write a python program to print alphabet pattern 'A'.\n",
    "\n",
    "i=0\n",
    "while i<7 :\n",
    "    j=0\n",
    "    while j<5 :\n",
    "        if i==0 and j>0 :\n",
    "            if j<4 :\n",
    "                print(\"*\",end=\"\")\n",
    "                \n",
    "            \n",
    "            else:\n",
    "                print(end=\" \")\n",
    "            j+=1\n",
    "                \n",
    "        elif i==3 :\n",
    "            print(\"*\",end=\"\")\n",
    "            j+=1\n",
    "            \n",
    "        else :\n",
    "            if j==0 or j==4 :\n",
    "                print(\"*\",end=\"\")\n",
    "                \n",
    "            else:\n",
    "                print(end=\" \")\n",
    "            j+=1   \n",
    "            \n",
    "               \n",
    "        \n",
    "        \n",
    "    print(\"\\n\",end=\"\")\n",
    "    i+=1\n",
    "    \n"
   ]
  },
  {
   "cell_type": "code",
   "execution_count": 9,
   "id": "1dc505d9",
   "metadata": {},
   "outputs": [
    {
     "name": "stdout",
     "output_type": "stream",
     "text": [
      "*****\n",
      " *  *\n",
      " *  *\n",
      " *  *\n",
      " *  *\n",
      " *  *\n",
      "*****\n"
     ]
    }
   ],
   "source": [
    "####Write a python program to print alphabet pattern 'D'.\n",
    "\n",
    "i=0\n",
    "while i<7 :\n",
    "    j=0\n",
    "    while j<5 :\n",
    "        if i==0 or i==6 :\n",
    "            print(\"*\",end=\"\")\n",
    "            j+=1\n",
    "        else :\n",
    "            if j==1 or j==4 :\n",
    "                print(\"*\",end=\"\")\n",
    "                \n",
    "            else:\n",
    "                print(end=\" \")\n",
    "            \n",
    "            j+=1   \n",
    "        \n",
    "        \n",
    "    print(\"\\n\",end=\"\")\n",
    "    i+=1"
   ]
  },
  {
   "cell_type": "code",
   "execution_count": 8,
   "id": "0643d416",
   "metadata": {},
   "outputs": [
    {
     "name": "stdout",
     "output_type": "stream",
     "text": [
      "*****\n",
      "*\n",
      "*\n",
      "****\n",
      "\n",
      "*\n",
      "*\n",
      "*****\n"
     ]
    }
   ],
   "source": [
    "##Write a python program to print alphabet pattern 'E'.\n",
    "\n",
    "i=0\n",
    "while i<7 :\n",
    "    j=0\n",
    "    while j<5 :\n",
    "        if i==0 or i==6 :\n",
    "            print(\"*\",end=\"\")\n",
    "            j+=1\n",
    "            \n",
    "        elif i==3 :\n",
    "            if j<4 :\n",
    "                print(\"*\",end=\"\")\n",
    "            else:\n",
    "                print(\"\")\n",
    "            \n",
    "            j+=1\n",
    "        else :\n",
    "            if j==0  :\n",
    "                print(\"*\",end=\"\")\n",
    "                \n",
    "           \n",
    "            \n",
    "            j+=1   \n",
    "        \n",
    "        \n",
    "    print(\"\\n\",end=\"\")\n",
    "    i+=1"
   ]
  },
  {
   "cell_type": "code",
   "execution_count": 12,
   "id": "d541e79d",
   "metadata": {},
   "outputs": [
    {
     "name": "stdout",
     "output_type": "stream",
     "text": [
      " *** \n",
      "*   *\n",
      "*    \n",
      "* ***\n",
      "*   *\n",
      "*   *\n",
      " *** \n"
     ]
    }
   ],
   "source": [
    "##Write a python program to print alphabet pattern 'G'.\n",
    "\n",
    "i=0\n",
    "while i<7 :\n",
    "    j=0\n",
    "    while j<5 :\n",
    "        if i==0 or i==6 :\n",
    "           if j>0 and j<4 :\n",
    "                print(\"*\",end=\"\")\n",
    "           else:\n",
    "                print(end=\" \")\n",
    "           j+=1\n",
    "            \n",
    "        elif i==3 :\n",
    "            if j==1 :\n",
    "                print(end=\" \")\n",
    "            else:\n",
    "                print(\"*\",end=\"\")\n",
    "            \n",
    "            j+=1\n",
    "        elif i==2 :\n",
    "            if j==0  :\n",
    "                print(\"*\",end=\"\")\n",
    "                \n",
    "            else:\n",
    "                print(end=\" \")\n",
    "            \n",
    "            j+=1  \n",
    "        else :\n",
    "            if j==0 or j==4:\n",
    "                print(\"*\",end=\"\")\n",
    "            else:\n",
    "                print(end=\" \")\n",
    "            j+=1\n",
    "        \n",
    "    print(\"\\n\",end=\"\")\n",
    "    i+=1"
   ]
  },
  {
   "cell_type": "code",
   "execution_count": 13,
   "id": "1c7914de",
   "metadata": {},
   "outputs": [
    {
     "name": "stdout",
     "output_type": "stream",
     "text": [
      "Enter a number for multiplication table:6\n",
      "6 * 1 = 6\n",
      "6 * 2 = 12\n",
      "6 * 3 = 18\n",
      "6 * 4 = 24\n",
      "6 * 5 = 30\n",
      "6 * 6 = 36\n",
      "6 * 7 = 42\n",
      "6 * 8 = 48\n",
      "6 * 9 = 54\n",
      "6 * 10 = 60\n"
     ]
    }
   ],
   "source": [
    "##Write a python program to create the multiplication table (from 1 to 10) of a number.\n",
    "\n",
    "n= int(input(\"Enter a number for multiplication table:\"))\n",
    "i=1\n",
    "\n",
    "while i<=10:\n",
    "   \n",
    "    print(n,\"*\",i,\"=\",n*i)\n",
    "    i+=1"
   ]
  },
  {
   "cell_type": "code",
   "execution_count": 14,
   "id": "9ca648ea",
   "metadata": {},
   "outputs": [
    {
     "name": "stdout",
     "output_type": "stream",
     "text": [
      "1\n",
      "22\n",
      "333\n",
      "4444\n",
      "55555\n",
      "666666\n",
      "7777777\n",
      "88888888\n",
      "999999999\n"
     ]
    }
   ],
   "source": [
    "##Write a python program to construct the following pattern, using a nested while loop number.\n",
    "\n",
    "i=1\n",
    "\n",
    "while i<10:\n",
    "    j=1\n",
    "    while j<=i :\n",
    "        print(i,end=\"\")\n",
    "        j+=1\n",
    "   \n",
    "    print(\"\")\n",
    "    i+=1"
   ]
  },
  {
   "cell_type": "code",
   "execution_count": null,
   "id": "0345abe7",
   "metadata": {},
   "outputs": [],
   "source": []
  }
 ],
 "metadata": {
  "kernelspec": {
   "display_name": "Python 3 (ipykernel)",
   "language": "python",
   "name": "python3"
  },
  "language_info": {
   "codemirror_mode": {
    "name": "ipython",
    "version": 3
   },
   "file_extension": ".py",
   "mimetype": "text/x-python",
   "name": "python",
   "nbconvert_exporter": "python",
   "pygments_lexer": "ipython3",
   "version": "3.9.7"
  }
 },
 "nbformat": 4,
 "nbformat_minor": 5
}
